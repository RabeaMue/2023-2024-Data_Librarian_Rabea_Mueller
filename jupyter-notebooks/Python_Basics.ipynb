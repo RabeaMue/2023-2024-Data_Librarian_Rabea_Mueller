{
 "cells": [
  {
   "cell_type": "markdown",
   "id": "96c966c8-69b6-479d-bfd6-456033ba922e",
   "metadata": {},
   "source": [
    "#  Python Einführung\n",
    "Hier lernen wir Python\n",
    "- So schreibe ich **fett**\n",
    "- So schreibe ich _kursiv_ *kursiv*"
   ]
  },
  {
   "cell_type": "code",
   "execution_count": 1,
   "id": "5efd32a4-b757-4162-bdfb-b28b3fe98207",
   "metadata": {},
   "outputs": [
    {
     "name": "stdout",
     "output_type": "stream",
     "text": [
      "Hallo zusammen\n"
     ]
    }
   ],
   "source": [
    "print(\"Hallo zusammen\")"
   ]
  },
  {
   "cell_type": "code",
   "execution_count": 2,
   "id": "6207f586-7b46-4cf0-87a8-cec1560008b7",
   "metadata": {},
   "outputs": [
    {
     "name": "stdout",
     "output_type": "stream",
     "text": [
      "Something\n"
     ]
    }
   ],
   "source": [
    "# Dies ist ein Kommentar \n",
    "print(\"Something\")"
   ]
  },
  {
   "cell_type": "code",
   "execution_count": 4,
   "id": "7afc2860-7cb7-4192-9877-c526f50e6a4a",
   "metadata": {},
   "outputs": [],
   "source": [
    "# Dies ist ein Kommentar \n",
    "# print(\"Something\")"
   ]
  },
  {
   "cell_type": "markdown",
   "id": "05bc5f45-a44b-4e71-85b6-f3c5babf22db",
   "metadata": {},
   "source": [
    "## Einfache Datentypen"
   ]
  },
  {
   "cell_type": "code",
   "execution_count": 5,
   "id": "d74bab6b-e939-439e-8e57-a6665c7daef7",
   "metadata": {},
   "outputs": [],
   "source": [
    "# Variable mit Wertezuweisung\n",
    "name = \"Lovelace\""
   ]
  },
  {
   "cell_type": "code",
   "execution_count": 6,
   "id": "83dbf10c-9e7e-4a99-9ef3-345a955caf56",
   "metadata": {},
   "outputs": [
    {
     "data": {
      "text/plain": [
       "'Lovelace'"
      ]
     },
     "execution_count": 6,
     "metadata": {},
     "output_type": "execute_result"
    }
   ],
   "source": [
    "name"
   ]
  },
  {
   "cell_type": "code",
   "execution_count": 7,
   "id": "ee6f2b25-f032-4f14-85a8-2bf8512e37fd",
   "metadata": {},
   "outputs": [
    {
     "name": "stdout",
     "output_type": "stream",
     "text": [
      "Lovelace\n"
     ]
    }
   ],
   "source": [
    "print(name)"
   ]
  },
  {
   "cell_type": "code",
   "execution_count": 8,
   "id": "286927ea-ed93-48ef-827f-202dfd79123e",
   "metadata": {},
   "outputs": [
    {
     "name": "stdout",
     "output_type": "stream",
     "text": [
      "Ada\n"
     ]
    }
   ],
   "source": [
    "# String / Zeichenkette\n",
    "first_name = \"Ada\"\n",
    "print(first_name)"
   ]
  },
  {
   "cell_type": "code",
   "execution_count": 10,
   "id": "193f896b-d480-4856-a462-0f86fc7d24a7",
   "metadata": {},
   "outputs": [
    {
     "name": "stdout",
     "output_type": "stream",
     "text": [
      "37\n"
     ]
    }
   ],
   "source": [
    "# Integer - Ganzzahlen\n",
    "age = 37\n",
    "print(age)"
   ]
  },
  {
   "cell_type": "code",
   "execution_count": 11,
   "id": "9b9554da-cf92-45be-af46-75f7403f9a4c",
   "metadata": {},
   "outputs": [
    {
     "name": "stdout",
     "output_type": "stream",
     "text": [
      "The Zen of Python, by Tim Peters\n",
      "\n",
      "Beautiful is better than ugly.\n",
      "Explicit is better than implicit.\n",
      "Simple is better than complex.\n",
      "Complex is better than complicated.\n",
      "Flat is better than nested.\n",
      "Sparse is better than dense.\n",
      "Readability counts.\n",
      "Special cases aren't special enough to break the rules.\n",
      "Although practicality beats purity.\n",
      "Errors should never pass silently.\n",
      "Unless explicitly silenced.\n",
      "In the face of ambiguity, refuse the temptation to guess.\n",
      "There should be one-- and preferably only one --obvious way to do it.\n",
      "Although that way may not be obvious at first unless you're Dutch.\n",
      "Now is better than never.\n",
      "Although never is often better than *right* now.\n",
      "If the implementation is hard to explain, it's a bad idea.\n",
      "If the implementation is easy to explain, it may be a good idea.\n",
      "Namespaces are one honking great idea -- let's do more of those!\n"
     ]
    }
   ],
   "source": [
    "import this"
   ]
  },
  {
   "cell_type": "code",
   "execution_count": 14,
   "id": "67bafe46-2cdb-46d7-a4fd-fb88dbf59f94",
   "metadata": {},
   "outputs": [
    {
     "name": "stdout",
     "output_type": "stream",
     "text": [
      "1.7123\n"
     ]
    }
   ],
   "source": [
    "# float - Gleitkommazahlen\n",
    "size = 1.7123\n",
    "print(size)"
   ]
  },
  {
   "cell_type": "code",
   "execution_count": 16,
   "id": "2a4c7aef-2587-4135-b0de-c2b08b57b272",
   "metadata": {},
   "outputs": [
    {
     "name": "stdout",
     "output_type": "stream",
     "text": [
      "True\n",
      "False\n"
     ]
    }
   ],
   "source": [
    "# Boolean - Boolscher Wert \n",
    "knows_math = True\n",
    "print(knows_math)\n",
    "likes_gardening = False\n",
    "print(likes_gardening)"
   ]
  },
  {
   "cell_type": "code",
   "execution_count": 18,
   "id": "c44c40ec-3361-465f-a867-c55010598119",
   "metadata": {},
   "outputs": [
    {
     "data": {
      "text/plain": [
       "int"
      ]
     },
     "execution_count": 18,
     "metadata": {},
     "output_type": "execute_result"
    }
   ],
   "source": [
    "type(age)"
   ]
  },
  {
   "cell_type": "code",
   "execution_count": 19,
   "id": "4c1d7e65-4174-4d1d-b949-e37ce8213447",
   "metadata": {},
   "outputs": [
    {
     "data": {
      "text/plain": [
       "'Lovelace'"
      ]
     },
     "execution_count": 19,
     "metadata": {},
     "output_type": "execute_result"
    }
   ],
   "source": [
    "name"
   ]
  },
  {
   "cell_type": "code",
   "execution_count": 20,
   "id": "07a4ad0b-d8c1-47a3-825f-ac06397dd359",
   "metadata": {},
   "outputs": [
    {
     "data": {
      "text/plain": [
       "37"
      ]
     },
     "execution_count": 20,
     "metadata": {},
     "output_type": "execute_result"
    }
   ],
   "source": [
    "name\n",
    "age"
   ]
  },
  {
   "cell_type": "code",
   "execution_count": 21,
   "id": "a68d3e2a-18c4-405a-8907-d417c53eac72",
   "metadata": {},
   "outputs": [
    {
     "name": "stdout",
     "output_type": "stream",
     "text": [
      "Lovelace\n",
      "37\n"
     ]
    }
   ],
   "source": [
    "print(name)\n",
    "print(age)"
   ]
  },
  {
   "cell_type": "markdown",
   "id": "c02d640d-bf51-405d-ad66-4e7c2af1bba0",
   "metadata": {},
   "source": [
    "## Operatoren"
   ]
  },
  {
   "cell_type": "code",
   "execution_count": 22,
   "id": "8cfbf754-5ad5-4e96-92f2-391e9b18494a",
   "metadata": {},
   "outputs": [
    {
     "data": {
      "text/plain": [
       "10"
      ]
     },
     "execution_count": 22,
     "metadata": {},
     "output_type": "execute_result"
    }
   ],
   "source": [
    "5 + 5"
   ]
  },
  {
   "cell_type": "code",
   "execution_count": 23,
   "id": "376f4a7f-d099-440a-99f5-24e955bb5b04",
   "metadata": {},
   "outputs": [
    {
     "data": {
      "text/plain": [
       "3700"
      ]
     },
     "execution_count": 23,
     "metadata": {},
     "output_type": "execute_result"
    }
   ],
   "source": [
    "100 * age"
   ]
  },
  {
   "cell_type": "code",
   "execution_count": 24,
   "id": "bcb2a9eb-06b9-4c4b-bd7e-fb81e560f721",
   "metadata": {},
   "outputs": [
    {
     "data": {
      "text/plain": [
       "'LovelaceLovelace'"
      ]
     },
     "execution_count": 24,
     "metadata": {},
     "output_type": "execute_result"
    }
   ],
   "source": [
    "name + name"
   ]
  },
  {
   "cell_type": "code",
   "execution_count": 25,
   "id": "ae5c6e23-622c-4319-83c6-f7cf747f9ac3",
   "metadata": {},
   "outputs": [
    {
     "data": {
      "text/plain": [
       "'LovelaceLovelaceLovelaceLovelaceLovelaceLovelaceLovelaceLovelaceLovelaceLovelace'"
      ]
     },
     "execution_count": 25,
     "metadata": {},
     "output_type": "execute_result"
    }
   ],
   "source": [
    "name * 10"
   ]
  },
  {
   "cell_type": "code",
   "execution_count": 26,
   "id": "23474fe0-75cd-4420-8f56-216ccdb9f81d",
   "metadata": {},
   "outputs": [
    {
     "ename": "TypeError",
     "evalue": "can only concatenate str (not \"int\") to str",
     "output_type": "error",
     "traceback": [
      "\u001b[0;31m---------------------------------------------------------------------------\u001b[0m",
      "\u001b[0;31mTypeError\u001b[0m                                 Traceback (most recent call last)",
      "Cell \u001b[0;32mIn[26], line 1\u001b[0m\n\u001b[0;32m----> 1\u001b[0m \u001b[43mname\u001b[49m\u001b[43m \u001b[49m\u001b[38;5;241;43m+\u001b[39;49m\u001b[43m \u001b[49m\u001b[38;5;241;43m10\u001b[39;49m \n",
      "\u001b[0;31mTypeError\u001b[0m: can only concatenate str (not \"int\") to str"
     ]
    }
   ],
   "source": [
    "name + 10 "
   ]
  },
  {
   "cell_type": "code",
   "execution_count": 27,
   "id": "f4e25952-ca26-466b-acdf-bf4177f30c5e",
   "metadata": {},
   "outputs": [
    {
     "data": {
      "text/plain": [
       "'Lovelace10'"
      ]
     },
     "execution_count": 27,
     "metadata": {},
     "output_type": "execute_result"
    }
   ],
   "source": [
    "name + \"10\""
   ]
  },
  {
   "cell_type": "code",
   "execution_count": 28,
   "id": "26f2fe9b-4b22-40bf-b0f7-022865e39149",
   "metadata": {},
   "outputs": [
    {
     "data": {
      "text/plain": [
       "0.04627837837837838"
      ]
     },
     "execution_count": 28,
     "metadata": {},
     "output_type": "execute_result"
    }
   ],
   "source": [
    "size / age"
   ]
  },
  {
   "cell_type": "code",
   "execution_count": 29,
   "id": "0f659516-482c-43e2-9fc1-cbcad82a5b2f",
   "metadata": {},
   "outputs": [],
   "source": [
    "number_of_article = \"50\""
   ]
  },
  {
   "cell_type": "code",
   "execution_count": 30,
   "id": "c77e71e9-c9f4-44cf-b9d8-c4095cd74baa",
   "metadata": {},
   "outputs": [
    {
     "ename": "TypeError",
     "evalue": "unsupported operand type(s) for /: 'str' and 'int'",
     "output_type": "error",
     "traceback": [
      "\u001b[0;31m---------------------------------------------------------------------------\u001b[0m",
      "\u001b[0;31mTypeError\u001b[0m                                 Traceback (most recent call last)",
      "Cell \u001b[0;32mIn[30], line 1\u001b[0m\n\u001b[0;32m----> 1\u001b[0m \u001b[43mnumber_of_article\u001b[49m\u001b[43m \u001b[49m\u001b[38;5;241;43m/\u001b[39;49m\u001b[43m \u001b[49m\u001b[38;5;241;43m10\u001b[39;49m\n",
      "\u001b[0;31mTypeError\u001b[0m: unsupported operand type(s) for /: 'str' and 'int'"
     ]
    }
   ],
   "source": [
    "number_of_article / 10"
   ]
  },
  {
   "cell_type": "code",
   "execution_count": 31,
   "id": "2009564e-acc6-400d-a870-2f06f2c7cdca",
   "metadata": {},
   "outputs": [
    {
     "data": {
      "text/plain": [
       "5.0"
      ]
     },
     "execution_count": 31,
     "metadata": {},
     "output_type": "execute_result"
    }
   ],
   "source": [
    "int(number_of_article) / 10"
   ]
  },
  {
   "cell_type": "code",
   "execution_count": 35,
   "id": "19a40e04-e5a2-467e-a415-5f069c02684a",
   "metadata": {},
   "outputs": [],
   "source": [
    "number_of_article = 50"
   ]
  },
  {
   "cell_type": "code",
   "execution_count": 36,
   "id": "01861d81-fab2-4f8a-8cb3-031981930967",
   "metadata": {},
   "outputs": [
    {
     "data": {
      "text/plain": [
       "int"
      ]
     },
     "execution_count": 36,
     "metadata": {},
     "output_type": "execute_result"
    }
   ],
   "source": [
    "type(number_of_article)"
   ]
  },
  {
   "cell_type": "markdown",
   "id": "b6d6738f-6aa7-46df-ade8-3b4fccef2683",
   "metadata": {},
   "source": [
    "## Funktionen und Methoden"
   ]
  },
  {
   "cell_type": "code",
   "execution_count": 37,
   "id": "900d2c55-4558-4c78-b69b-60ceaeb72eee",
   "metadata": {},
   "outputs": [
    {
     "data": {
      "text/plain": [
       "8"
      ]
     },
     "execution_count": 37,
     "metadata": {},
     "output_type": "execute_result"
    }
   ],
   "source": [
    "len(name)"
   ]
  },
  {
   "cell_type": "code",
   "execution_count": 38,
   "id": "27a30224-ecc7-4ebe-a9a3-ccdd8c9c1e60",
   "metadata": {},
   "outputs": [
    {
     "data": {
      "text/plain": [
       "'Lovelace'"
      ]
     },
     "execution_count": 38,
     "metadata": {},
     "output_type": "execute_result"
    }
   ],
   "source": [
    "name"
   ]
  },
  {
   "cell_type": "code",
   "execution_count": 39,
   "id": "8f7a0630-6b16-4664-aa05-4883432f587b",
   "metadata": {},
   "outputs": [
    {
     "data": {
      "text/plain": [
       "'LOVELACE'"
      ]
     },
     "execution_count": 39,
     "metadata": {},
     "output_type": "execute_result"
    }
   ],
   "source": [
    "name.upper()"
   ]
  },
  {
   "cell_type": "code",
   "execution_count": 40,
   "id": "030fb251-0868-402c-a2cb-11781c4131b0",
   "metadata": {},
   "outputs": [
    {
     "data": {
      "text/plain": [
       "2"
      ]
     },
     "execution_count": 40,
     "metadata": {},
     "output_type": "execute_result"
    }
   ],
   "source": [
    "name.count(\"e\")"
   ]
  },
  {
   "cell_type": "code",
   "execution_count": 41,
   "id": "94e9a263-5a17-4033-8996-455f700db393",
   "metadata": {},
   "outputs": [
    {
     "data": {
      "text/plain": [
       "1"
      ]
     },
     "execution_count": 41,
     "metadata": {},
     "output_type": "execute_result"
    }
   ],
   "source": [
    "name.count(\"l\")"
   ]
  },
  {
   "cell_type": "code",
   "execution_count": 42,
   "id": "604d5551-7f63-4f37-8e5b-75effb5f514a",
   "metadata": {},
   "outputs": [
    {
     "data": {
      "text/plain": [
       "2"
      ]
     },
     "execution_count": 42,
     "metadata": {},
     "output_type": "execute_result"
    }
   ],
   "source": [
    "name.upper().count(\"L\")"
   ]
  },
  {
   "cell_type": "code",
   "execution_count": 43,
   "id": "e46aca77-b3be-4212-a01a-c5ff9f0e36f0",
   "metadata": {},
   "outputs": [
    {
     "data": {
      "text/plain": [
       "'Love is everywhere'"
      ]
     },
     "execution_count": 43,
     "metadata": {},
     "output_type": "execute_result"
    }
   ],
   "source": [
    "name.replace(\"lace\", \" is everywhere\")"
   ]
  },
  {
   "cell_type": "markdown",
   "id": "8aa75bf2-5a81-4301-8f9e-ac5908e347f6",
   "metadata": {},
   "source": [
    "## Listen und Dictionaries"
   ]
  },
  {
   "cell_type": "code",
   "execution_count": 44,
   "id": "1b75c26a-1c13-4158-95ca-906d07249c55",
   "metadata": {},
   "outputs": [],
   "source": [
    "names = [\"Lovelace\", \"Darwin\", \"Noether\", \"Hawking\", 37]"
   ]
  },
  {
   "cell_type": "code",
   "execution_count": 45,
   "id": "48f5a36e-cb7e-47b2-8791-3672c6e91588",
   "metadata": {},
   "outputs": [
    {
     "data": {
      "text/plain": [
       "['Lovelace', 'Darwin', 'Noether', 'Hawking']"
      ]
     },
     "execution_count": 45,
     "metadata": {},
     "output_type": "execute_result"
    }
   ],
   "source": [
    "names"
   ]
  },
  {
   "cell_type": "code",
   "execution_count": 46,
   "id": "2d76a097-b026-4dc1-92d3-6d4976709bb9",
   "metadata": {},
   "outputs": [
    {
     "data": {
      "text/plain": [
       "'Lovelace'"
      ]
     },
     "execution_count": 46,
     "metadata": {},
     "output_type": "execute_result"
    }
   ],
   "source": [
    "names[0]"
   ]
  },
  {
   "cell_type": "code",
   "execution_count": 48,
   "id": "578becfc-2c14-4a43-af89-ccef76459dc2",
   "metadata": {},
   "outputs": [
    {
     "data": {
      "text/plain": [
       "'Darwin'"
      ]
     },
     "execution_count": 48,
     "metadata": {},
     "output_type": "execute_result"
    }
   ],
   "source": [
    "names[1]"
   ]
  },
  {
   "cell_type": "code",
   "execution_count": 49,
   "id": "8b795e05-73a7-4df1-968b-f96506011398",
   "metadata": {},
   "outputs": [
    {
     "data": {
      "text/plain": [
       "'Hawking'"
      ]
     },
     "execution_count": 49,
     "metadata": {},
     "output_type": "execute_result"
    }
   ],
   "source": [
    "names[-1]"
   ]
  },
  {
   "cell_type": "code",
   "execution_count": 50,
   "id": "00f32243-8827-4a9c-bf0d-19c07bfbbef3",
   "metadata": {},
   "outputs": [
    {
     "data": {
      "text/plain": [
       "['Lovelace', 'Darwin', 'Noether']"
      ]
     },
     "execution_count": 50,
     "metadata": {},
     "output_type": "execute_result"
    }
   ],
   "source": [
    "names[0:3]"
   ]
  },
  {
   "cell_type": "code",
   "execution_count": 51,
   "id": "9cc265db-9e96-49c2-8f02-22f65845271d",
   "metadata": {},
   "outputs": [
    {
     "data": {
      "text/plain": [
       "['Lovelace', 'Darwin']"
      ]
     },
     "execution_count": 51,
     "metadata": {},
     "output_type": "execute_result"
    }
   ],
   "source": [
    "names[:2]"
   ]
  },
  {
   "cell_type": "code",
   "execution_count": 52,
   "id": "c79cb85c-f181-4538-84a2-a3314bedd81b",
   "metadata": {},
   "outputs": [
    {
     "data": {
      "text/plain": [
       "['Noether', 'Hawking']"
      ]
     },
     "execution_count": 52,
     "metadata": {},
     "output_type": "execute_result"
    }
   ],
   "source": [
    "names[2:]"
   ]
  },
  {
   "cell_type": "code",
   "execution_count": 53,
   "id": "964312ef-a6b2-4a2c-bc5e-e2803cf08bcf",
   "metadata": {},
   "outputs": [],
   "source": [
    "authors_and_birth_years = {\"Lovelace\": [1815, 1816]\n",
    "                           \"Darwin\": 1809, \n",
    "                           \"Noether\": 1882, \n",
    "                           \"Hawking\": 1942} "
   ]
  },
  {
   "cell_type": "code",
   "execution_count": 54,
   "id": "5d7aef8a-7c4c-47ea-bd65-ee08bf18f70b",
   "metadata": {},
   "outputs": [
    {
     "data": {
      "text/plain": [
       "1809"
      ]
     },
     "execution_count": 54,
     "metadata": {},
     "output_type": "execute_result"
    }
   ],
   "source": [
    "authors_and_birth_years[\"Darwin\"]"
   ]
  },
  {
   "cell_type": "code",
   "execution_count": 55,
   "id": "c14ed0e0-25f2-4690-b20a-0795931b5ab1",
   "metadata": {},
   "outputs": [
    {
     "ename": "KeyError",
     "evalue": "'DArwin'",
     "output_type": "error",
     "traceback": [
      "\u001b[0;31m---------------------------------------------------------------------------\u001b[0m",
      "\u001b[0;31mKeyError\u001b[0m                                  Traceback (most recent call last)",
      "Cell \u001b[0;32mIn[55], line 1\u001b[0m\n\u001b[0;32m----> 1\u001b[0m \u001b[43mauthors_and_birth_years\u001b[49m\u001b[43m[\u001b[49m\u001b[38;5;124;43m\"\u001b[39;49m\u001b[38;5;124;43mDArwin\u001b[39;49m\u001b[38;5;124;43m\"\u001b[39;49m\u001b[43m]\u001b[49m\n",
      "\u001b[0;31mKeyError\u001b[0m: 'DArwin'"
     ]
    }
   ],
   "source": [
    "authors_and_birth_years[\"DArwin\"]"
   ]
  },
  {
   "cell_type": "markdown",
   "id": "ed7a2f46-66e0-4c6b-aae7-97ac92b43707",
   "metadata": {},
   "source": [
    "## for-Schleife"
   ]
  },
  {
   "cell_type": "code",
   "execution_count": null,
   "id": "2b3a5374-6bfa-479e-9761-516280429d93",
   "metadata": {},
   "outputs": [],
   "source": [
    "names = [\"Lovelace\", \"Darwin\", \"Noether\", \"Hawking\"]"
   ]
  },
  {
   "cell_type": "code",
   "execution_count": 59,
   "id": "b000237e-0a23-4796-b231-7214b6d8ed62",
   "metadata": {},
   "outputs": [
    {
     "name": "stdout",
     "output_type": "stream",
     "text": [
      "Lovelace did awesome stuff.\n",
      "Darwin did awesome stuff.\n",
      "Noether did awesome stuff.\n",
      "Hawking did awesome stuff.\n",
      "-------\n"
     ]
    }
   ],
   "source": [
    "for person in names:\n",
    "    print(person + \" did awesome stuff.\")\n",
    "print(\"-------\")"
   ]
  },
  {
   "cell_type": "markdown",
   "id": "7aa4b8f9-ec92-4437-8994-ae98c338a309",
   "metadata": {},
   "source": [
    "## Bedingte Anweisungen (Conditionals)"
   ]
  },
  {
   "cell_type": "code",
   "execution_count": 60,
   "id": "9b750044-308b-4d0c-8bd4-64d4eb84996c",
   "metadata": {},
   "outputs": [
    {
     "name": "stdout",
     "output_type": "stream",
     "text": [
      "Es ist warm.\n"
     ]
    }
   ],
   "source": [
    "temp = 20\n",
    "if temp > 15:\n",
    "    print(\"Es ist warm.\")"
   ]
  },
  {
   "cell_type": "code",
   "execution_count": 61,
   "id": "a2f1a597-67d1-4cfe-b03c-b838f5af8b80",
   "metadata": {},
   "outputs": [
    {
     "data": {
      "text/plain": [
       "True"
      ]
     },
     "execution_count": 61,
     "metadata": {},
     "output_type": "execute_result"
    }
   ],
   "source": [
    "20 > 15"
   ]
  },
  {
   "cell_type": "code",
   "execution_count": 62,
   "id": "c9174cf2-70f6-4a67-80ef-047fb41645a4",
   "metadata": {},
   "outputs": [],
   "source": [
    "temp = 10\n",
    "if temp > 15:\n",
    "    print(\"Es ist warm.\")"
   ]
  },
  {
   "cell_type": "code",
   "execution_count": 66,
   "id": "4c23da88-170f-4980-9b50-539528d3db72",
   "metadata": {},
   "outputs": [
    {
     "name": "stdout",
     "output_type": "stream",
     "text": [
      "Es ist kalt.\n"
     ]
    }
   ],
   "source": [
    "temp = 0\n",
    "if temp > 15:\n",
    "    print(\"Es ist warm.\")\n",
    "else:\n",
    "    print(\"Es ist kalt.\")"
   ]
  },
  {
   "cell_type": "code",
   "execution_count": 67,
   "id": "011fdbed-29c3-479d-b57b-321a01b59296",
   "metadata": {},
   "outputs": [
    {
     "name": "stdout",
     "output_type": "stream",
     "text": [
      "Es ist warm.\n"
     ]
    }
   ],
   "source": [
    "temp = 15\n",
    "if temp > 25:\n",
    "    print(\"Es ist heiß.\")\n",
    "elif temp >= 15:\n",
    "    print(\"Es ist warm.\")\n",
    "else:\n",
    "    print(\"Es ist kalt.\")"
   ]
  },
  {
   "cell_type": "code",
   "execution_count": 70,
   "id": "816fe984-1be3-4173-b5c9-f818a55dc67b",
   "metadata": {},
   "outputs": [
    {
     "name": "stdout",
     "output_type": "stream",
     "text": [
      "Es ist warm.\n"
     ]
    }
   ],
   "source": [
    "# falsche Reihenfolge\n",
    "temp = 30\n",
    "if temp > 15:\n",
    "    print(\"Es ist warm.\")\n",
    "elif temp >= 25:\n",
    "    print(\"Es ist heiß.\")\n",
    "else:\n",
    "    print(\"Es ist kalt.\")"
   ]
  },
  {
   "cell_type": "code",
   "execution_count": 72,
   "id": "e3e4c656-c249-477d-b1e2-c3e4dc86c84f",
   "metadata": {},
   "outputs": [
    {
     "data": {
      "text/plain": [
       "10"
      ]
     },
     "execution_count": 72,
     "metadata": {},
     "output_type": "execute_result"
    }
   ],
   "source": [
    "5 + 5"
   ]
  },
  {
   "cell_type": "code",
   "execution_count": null,
   "id": "d661a61a-2e95-48b0-b32e-0bee8c712c52",
   "metadata": {},
   "outputs": [],
   "source": []
  }
 ],
 "metadata": {
  "kernelspec": {
   "display_name": "Python 3 (ipykernel)",
   "language": "python",
   "name": "python3"
  },
  "language_info": {
   "codemirror_mode": {
    "name": "ipython",
    "version": 3
   },
   "file_extension": ".py",
   "mimetype": "text/x-python",
   "name": "python",
   "nbconvert_exporter": "python",
   "pygments_lexer": "ipython3",
   "version": "3.10.12"
  }
 },
 "nbformat": 4,
 "nbformat_minor": 5
}
