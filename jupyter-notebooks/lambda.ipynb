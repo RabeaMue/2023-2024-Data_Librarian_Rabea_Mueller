{
 "cells": [
  {
   "cell_type": "code",
   "execution_count": 3,
   "id": "8667b702",
   "metadata": {},
   "outputs": [
    {
     "name": "stdout",
     "output_type": "stream",
     "text": [
      "['False', 'None', 'True', '__peg_parser__', 'and', 'as', 'assert', 'async', 'await', 'break', 'class', 'continue', 'def', 'del', 'elif', 'else', 'except', 'finally', 'for', 'from', 'global', 'if', 'import', 'in', 'is', 'lambda', 'nonlocal', 'not', 'or', 'pass', 'raise', 'return', 'try', 'while', 'with', 'yield']\n"
     ]
    }
   ],
   "source": [
    "import keyword\n",
    "print(keyword.kwlist)"
   ]
  },
  {
   "cell_type": "code",
   "execution_count": 4,
   "id": "682cdfd2",
   "metadata": {},
   "outputs": [],
   "source": [
    "# lambda erzeugt anyonyme Funktionen"
   ]
  },
  {
   "cell_type": "code",
   "execution_count": 8,
   "id": "721dc352",
   "metadata": {},
   "outputs": [],
   "source": [
    "def my_upper(string):\n",
    "    return string.upper()"
   ]
  },
  {
   "cell_type": "code",
   "execution_count": 9,
   "id": "0ad86bd8",
   "metadata": {},
   "outputs": [
    {
     "data": {
      "text/plain": [
       "'blub'"
      ]
     },
     "execution_count": 9,
     "metadata": {},
     "output_type": "execute_result"
    }
   ],
   "source": [
    "\"blub\""
   ]
  },
  {
   "cell_type": "code",
   "execution_count": 10,
   "id": "25c22331",
   "metadata": {},
   "outputs": [
    {
     "data": {
      "text/plain": [
       "'BLUB'"
      ]
     },
     "execution_count": 10,
     "metadata": {},
     "output_type": "execute_result"
    }
   ],
   "source": [
    "my_upper(\"blub\")"
   ]
  },
  {
   "cell_type": "code",
   "execution_count": 11,
   "id": "bae041e5",
   "metadata": {},
   "outputs": [
    {
     "data": {
      "text/plain": [
       "'BLA'"
      ]
     },
     "execution_count": 11,
     "metadata": {},
     "output_type": "execute_result"
    }
   ],
   "source": [
    "\"bla\".upper()"
   ]
  },
  {
   "cell_type": "code",
   "execution_count": 12,
   "id": "2cd65687",
   "metadata": {},
   "outputs": [],
   "source": [
    "name = \"Lovelace\""
   ]
  },
  {
   "cell_type": "code",
   "execution_count": 13,
   "id": "cef401f0",
   "metadata": {},
   "outputs": [
    {
     "data": {
      "text/plain": [
       "'LOVELACE'"
      ]
     },
     "execution_count": 13,
     "metadata": {},
     "output_type": "execute_result"
    }
   ],
   "source": [
    "name.upper()"
   ]
  },
  {
   "cell_type": "code",
   "execution_count": null,
   "id": "5aaeb397",
   "metadata": {},
   "outputs": [],
   "source": [
    "name."
   ]
  }
 ],
 "metadata": {
  "kernelspec": {
   "display_name": "Python 3 (ipykernel)",
   "language": "python",
   "name": "python3"
  },
  "language_info": {
   "codemirror_mode": {
    "name": "ipython",
    "version": 3
   },
   "file_extension": ".py",
   "mimetype": "text/x-python",
   "name": "python",
   "nbconvert_exporter": "python",
   "pygments_lexer": "ipython3",
   "version": "3.9.13"
  }
 },
 "nbformat": 4,
 "nbformat_minor": 5
}
