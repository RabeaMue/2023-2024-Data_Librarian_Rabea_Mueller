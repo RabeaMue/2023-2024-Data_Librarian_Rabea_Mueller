{
 "cells": [
  {
   "cell_type": "code",
   "execution_count": 1,
   "id": "9c559b72-ca54-4605-ba52-74392887da24",
   "metadata": {},
   "outputs": [],
   "source": [
    "# unbereinigte ISBNs\n",
    "dirty_isbns = [\n",
    "    \" ISBN 978-3-518-58773-7 \", \n",
    "    \"ISBN___978-1491946008 \",\n",
    "    \"ISBN 978-1593276034\"]"
   ]
  },
  {
   "cell_type": "code",
   "execution_count": 2,
   "id": "68adcfee-7eb4-4aee-8711-b5e8b015dd8a",
   "metadata": {},
   "outputs": [],
   "source": [
    "def clean_isbn():\n",
    "    isbn = \" ISBN 978-3-518-58773-7 \"\n",
    "    print(isbn)"
   ]
  },
  {
   "cell_type": "code",
   "execution_count": 3,
   "id": "fb511227-5abb-4e3c-8e3e-76907b547633",
   "metadata": {},
   "outputs": [
    {
     "name": "stdout",
     "output_type": "stream",
     "text": [
      " ISBN 978-3-518-58773-7 \n"
     ]
    }
   ],
   "source": [
    "clean_isbn()"
   ]
  },
  {
   "cell_type": "code",
   "execution_count": 5,
   "id": "5e4fb6f5-40c7-4bd8-8a82-59bb7b8ba0ab",
   "metadata": {},
   "outputs": [
    {
     "name": "stdout",
     "output_type": "stream",
     "text": [
      "ISBN 978-3-518-58773-7\n"
     ]
    }
   ],
   "source": [
    "def clean_isbn():\n",
    "    isbn = \" ISBN 978-3-518-58773-7 \"\n",
    "    isbn = isbn.strip()\n",
    "    print(isbn)\n",
    "clean_isbn()"
   ]
  },
  {
   "cell_type": "code",
   "execution_count": 6,
   "id": "f9ab1fd6-8489-4cf3-91a7-4617bacf4110",
   "metadata": {},
   "outputs": [
    {
     "name": "stdout",
     "output_type": "stream",
     "text": [
      "978-3-518-58773-7\n"
     ]
    }
   ],
   "source": [
    "def clean_isbn():\n",
    "    isbn = \" ISBN 978-3-518-58773-7 \"\n",
    "    isbn = isbn.replace(\"ISBN\", \"\")\n",
    "    isbn = isbn.strip()\n",
    "    print(isbn)\n",
    "clean_isbn()"
   ]
  },
  {
   "cell_type": "code",
   "execution_count": 14,
   "id": "cf237b22-7677-43d7-b39f-6c13cb23b23f",
   "metadata": {},
   "outputs": [],
   "source": [
    "def clean_isbn(isbn):\n",
    "    isbn = isbn.replace(\"ISBN\", \"\")\n",
    "    isbn = isbn.strip()\n",
    "    return isbn"
   ]
  },
  {
   "cell_type": "code",
   "execution_count": 15,
   "id": "6f7560a2-056f-4063-8754-6b8ee90e2f08",
   "metadata": {},
   "outputs": [],
   "source": [
    "cleaned_isbn = clean_isbn(\" ISBN 978-3-518-58773-7 \")"
   ]
  },
  {
   "cell_type": "code",
   "execution_count": 16,
   "id": "3e08c78e-6208-4af2-bf83-f0b53f062b61",
   "metadata": {},
   "outputs": [
    {
     "name": "stdout",
     "output_type": "stream",
     "text": [
      "978-3-518-58773-7\n"
     ]
    }
   ],
   "source": [
    "print(cleaned_isbn)"
   ]
  },
  {
   "cell_type": "code",
   "execution_count": 17,
   "id": "2d4e9ca3-ffc3-410d-8023-429ef882e53d",
   "metadata": {},
   "outputs": [],
   "source": [
    "dirty_isbns = [\n",
    "    \" ISBN 978-3-518-58773-7 \", \n",
    "    \"ISBN___978-1491946008 \",\n",
    "    \"ISBN 978-1593276034\"]"
   ]
  },
  {
   "cell_type": "code",
   "execution_count": 19,
   "id": "3b30ace5-0dce-4c7e-ae4e-a7fb62f635f4",
   "metadata": {},
   "outputs": [],
   "source": [
    "def clean_isbn(isbn):\n",
    "    isbn = isbn.replace(\"ISBN\", \"\")\n",
    "    isbn = isbn.replace(\"_\", \"\")\n",
    "    isbn = isbn.strip()\n",
    "    return isbn"
   ]
  },
  {
   "cell_type": "code",
   "execution_count": 20,
   "id": "22f667bd-19de-4173-8d82-0c0583935bf9",
   "metadata": {},
   "outputs": [
    {
     "name": "stdout",
     "output_type": "stream",
     "text": [
      "978-3-518-58773-7\n",
      "978-1491946008\n",
      "978-1593276034\n"
     ]
    }
   ],
   "source": [
    "for isbn in dirty_isbns:\n",
    "    cleaned_isbn = clean_isbn(isbn)\n",
    "    print(cleaned_isbn)"
   ]
  },
  {
   "cell_type": "code",
   "execution_count": 21,
   "id": "2792e5d1-9e21-4c8a-9155-8e8848d62c15",
   "metadata": {},
   "outputs": [
    {
     "name": "stdout",
     "output_type": "stream",
     "text": [
      "clean_isbn\t cleaned_isbn\t dirty_isbns\t isbn\t \n"
     ]
    }
   ],
   "source": [
    "%who"
   ]
  },
  {
   "cell_type": "code",
   "execution_count": 22,
   "id": "bcb69044-2311-4e29-b480-20b3074ecb32",
   "metadata": {},
   "outputs": [
    {
     "name": "stdout",
     "output_type": "stream",
     "text": [
      "Variable       Type        Data/Info\n",
      "------------------------------------\n",
      "clean_isbn     function    <function clean_isbn at 0x7ff3cd3ea560>\n",
      "cleaned_isbn   str         978-1593276034\n",
      "dirty_isbns    list        n=3\n",
      "isbn           str         ISBN 978-1593276034\n"
     ]
    }
   ],
   "source": [
    "%whos"
   ]
  },
  {
   "cell_type": "code",
   "execution_count": 23,
   "id": "73920012-7c53-416e-9f47-e0ed4818ed4a",
   "metadata": {},
   "outputs": [
    {
     "name": "stdout",
     "output_type": "stream",
     "text": [
      "Defaulting to user installation because normal site-packages is not writeable\n",
      "Requirement already satisfied: pandas in /home/rabea/.local/lib/python3.10/site-packages (2.1.0)\n",
      "Requirement already satisfied: tzdata>=2022.1 in /home/rabea/.local/lib/python3.10/site-packages (from pandas) (2023.3)\n",
      "Requirement already satisfied: python-dateutil>=2.8.2 in /home/rabea/.local/lib/python3.10/site-packages (from pandas) (2.8.2)\n",
      "Requirement already satisfied: numpy>=1.22.4 in /home/rabea/.local/lib/python3.10/site-packages (from pandas) (1.25.2)\n",
      "Requirement already satisfied: pytz>=2020.1 in /usr/lib/python3/dist-packages (from pandas) (2022.1)\n",
      "Requirement already satisfied: six>=1.5 in /usr/lib/python3/dist-packages (from python-dateutil>=2.8.2->pandas) (1.16.0)\n"
     ]
    }
   ],
   "source": [
    "!pip install pandas"
   ]
  },
  {
   "cell_type": "code",
   "execution_count": null,
   "id": "e3933518-aedd-4631-8546-b350b22cd727",
   "metadata": {},
   "outputs": [],
   "source": []
  }
 ],
 "metadata": {
  "kernelspec": {
   "display_name": "Python 3 (ipykernel)",
   "language": "python",
   "name": "python3"
  },
  "language_info": {
   "codemirror_mode": {
    "name": "ipython",
    "version": 3
   },
   "file_extension": ".py",
   "mimetype": "text/x-python",
   "name": "python",
   "nbconvert_exporter": "python",
   "pygments_lexer": "ipython3",
   "version": "3.10.12"
  }
 },
 "nbformat": 4,
 "nbformat_minor": 5
}
