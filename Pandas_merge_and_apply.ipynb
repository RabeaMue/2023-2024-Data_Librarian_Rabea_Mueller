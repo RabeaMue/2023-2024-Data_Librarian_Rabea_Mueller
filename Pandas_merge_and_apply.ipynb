{
 "cells": [
  {
   "cell_type": "code",
   "execution_count": 1,
   "id": "ec2d485e-3986-4fe4-8591-a0bd1edf4095",
   "metadata": {},
   "outputs": [],
   "source": [
    "import pandas as pd"
   ]
  },
  {
   "cell_type": "code",
   "execution_count": 6,
   "id": "e09e1ef7-32a2-4bdf-b3d8-cb2145b68770",
   "metadata": {},
   "outputs": [],
   "source": [
    "doi_df_journal = pd.DataFrame({\n",
    "    \"DOI\": [\n",
    "        \"10.1371/journal.pcbi.1004668\",\n",
    "        \"10.21105/joss.01035\",\n",
    "        \"10.12688/f1000research.18866.2\",\n",
    "        \"10.1038/s41598-019-52881-4\",\n",
    "        \"10.1186/s12859-019-3171-0\"],\n",
    "    \"journal\": [\n",
    "        \"PLoS Comput Biol\",\n",
    "        \"JOSS\",\n",
    "        \"F1000Res\",\n",
    "        \"Sci Rep\",\n",
    "        \"BMC Bioinformatics\"]})\n",
    "\n",
    "doi_df_first_author = pd.DataFrame({\n",
    "    \"DOI\": [\n",
    "        \"10.1371/journal.pcbi.1004668\",\n",
    "        \"10.21105/joss.01035\",\n",
    "        \"10.21105/joss.01006\",\n",
    "        \"10.12688/f1000research.18866.2\",\n",
    "        \"10.1186/s12859-019-3171-0\"],\n",
    "    \"first_author\": [\n",
    "        \"Blischak\",\n",
    "        \"Sparks\",\n",
    "        \"Granger\",\n",
    "        \"Thang\",\n",
    "        \"Chen\"]})\n"
   ]
  },
  {
   "cell_type": "code",
   "execution_count": null,
   "id": "1bfef230-b33c-47ba-a402-a6d6e5419d08",
   "metadata": {},
   "outputs": [],
   "source": []
  }
 ],
 "metadata": {
  "kernelspec": {
   "display_name": "Python 3 (ipykernel)",
   "language": "python",
   "name": "python3"
  },
  "language_info": {
   "codemirror_mode": {
    "name": "ipython",
    "version": 3
   },
   "file_extension": ".py",
   "mimetype": "text/x-python",
   "name": "python",
   "nbconvert_exporter": "python",
   "pygments_lexer": "ipython3",
   "version": "3.10.12"
  }
 },
 "nbformat": 4,
 "nbformat_minor": 5
}
